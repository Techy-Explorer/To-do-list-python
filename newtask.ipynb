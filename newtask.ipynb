{
 "cells": [
  {
   "cell_type": "markdown",
   "id": "239c9949",
   "metadata": {},
   "source": [
    "# LUHN Algorithm"
   ]
  },
  {
   "cell_type": "code",
   "execution_count": null,
   "id": "86c6d7fc",
   "metadata": {},
   "outputs": [],
   "source": [
    "def check_card_validity(card_number):\n",
    "        digits = [int(d) for d in str(card_number)]\n",
    "            digits.reverse()\n",
    "                total_sum = 0\n",
    "\n",
    "                    for index, digit in enumerate(digits):\n",
    "                            if index % 2 == 1:\n",
    "                                        doubled = digit * 2\n",
    "                                                    if doubled > 9:\n",
    "                                                                    doubled -= 9\n",
    "                                                                                total_sum += doubled\n",
    "                                                                                        else:\n",
    "                                                                                                    total_sum += digit\n",
    "\n",
    "                                                                                                        return total_sum % 10 == 0\n",
    "\n",
    "                                                                                                        print(\" Welcome to the Credit Card Validator! \")\n",
    "                                                                                                        card_number = input(\"Please enter the card number you'd like to check: \")\n",
    "\n",
    "                                                                                                        if not card_number.isdigit():\n",
    "                                                                                                            print(\"Oops! Please use only digits, without any spaces or letters.\")\n",
    "                                                                                                            else:\n",
    "                                                                                                                if check_card_validity(card_number):\n",
    "                                                                                                                        print(\" This card number is VALID according to the Luhn Algorithm.\")\n",
    "                                                                                                                            else:\n",
    "                                                                                                                                    print(\"Sorry, this card number is INVALID according to the Luhn Algorithm.\")"
   ]
  },
  {
   "cell_type": "markdown",
   "id": "0288ad80",
   "metadata": {},
   "source": [
    "# Punctuation algorithm"
   ]
  },
  {
   "cell_type": "code",
   "execution_count": null,
   "id": "000ffe12",
   "metadata": {},
   "outputs": [],
   "source": [
    "# remove punctuation from text (simple program)\n",
    "\n",
    "text = input(\"Type something: \")\n",
    "\n",
    "out_str = \"\"\n",
    "\n",
    "for c in text:\n",
    "    ascii_val = ord(c)\n",
    "    if (65 <= ascii_val <= 90) or (97 <= ascii_val <= 122) or (48 <= ascii_val <= 57) or ascii_val == 32:\n",
    "        out_str += c\n",
    "    # else just skip (punctuation etc.)\n",
    "\n",
    "print(\"Before :\", text)\n",
    "print(\"After  :\", out_str)\n"
   ]
  },
  {
   "cell_type": "markdown",
   "id": "08d699a8",
   "metadata": {},
   "source": [
    "# ASCII alphabet order\n"
   ]
  },
  {
   "cell_type": "code",
   "execution_count": null,
   "id": "bd749513",
   "metadata": {},
   "outputs": [],
   "source": [
    "# program to sort the words of a sentence in alphabetical order\n",
    "\n",
    "sentence = input(\"Enter a sentence: \")\n",
    "\n",
    "# split sentence into words\n",
    "words = sentence.split()\n",
    "\n",
    "# sort words\n",
    "words.sort()\n",
    "\n",
    "# join them back into a string\n",
    "sorted_sentence = \" \".join(words)\n",
    "\n",
    "print(\"Original sentence:\", sentence)\n",
    "print(\"Sorted sentence  :\", sorted_sentence)\n"
   ]
  }
 ],
 "metadata": {
  "language_info": {
   "name": "python"
  }
 },
 "nbformat": 4,
 "nbformat_minor": 5
}
