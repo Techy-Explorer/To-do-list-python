{
 "cells": [
  {
   "cell_type": "markdown",
   "id": "98c092d1",
   "metadata": {},
   "source": [
    "# Farhan Ali \n",
    "\n",
    "# Roll no 12\n",
    "\n",
    "# BSDS-3A\n"
   ]
  },
  {
   "cell_type": "markdown",
   "id": "d0134717",
   "metadata": {},
   "source": [
    "# To-do list"
   ]
  },
  {
   "cell_type": "code",
   "execution_count": null,
   "id": "d5181981",
   "metadata": {},
   "outputs": [],
   "source": [
    "def main():\n",
    "    tasks = []\n",
    "\n",
    "    while True:\n",
    "        print(\" To-Do List \")\n",
    "        print(\"1. Add Task\")\n",
    "        print(\"2. Show Tasks\")\n",
    "        print(\"3. Mark Task as Done\")\n",
    "        print(\"4. Exit\")\n",
    "\n",
    "        choice = input(\"Enter your choice: \")\n",
    "\n",
    "        if choice == '1':\n",
    "            print()\n",
    "            num_tasks = int(input(\"How may task you want to add: \"))\n",
    "            \n",
    "            for i in range(num_tasks):\n",
    "                task = input(\"Enter the task: \")\n",
    "                tasks.append({\"task\": task, \"done\": False})\n",
    "                print(\"Task added!\")\n",
    "\n",
    "        elif choice == '2':\n",
    "            print(\"\\nTasks:\")\n",
    "            for index, task in enumerate(tasks):\n",
    "                status = \"Done\" if task[\"done\"] else \"Not Done\"\n",
    "                print(f\"{index + 1}. {task['task']} - {status}\")\n",
    "\n",
    "        elif choice == '3':\n",
    "            todotask = int(input(\"Enter the task number to mark as done: \")) - 1\n",
    "            if 0 <= todotask < len(tasks):\n",
    "                tasks[todotask][\"done\"] = True\n",
    "                print(\"Task marked as done!\")\n",
    "            else:\n",
    "                print(\"Invalid task number.\")\n",
    "\n",
    "        elif choice == '4':\n",
    "            print(\"Exiting the To-Do List.\")\n",
    "            break\n",
    "\n",
    "        else:\n",
    "            print(\"Invalid choice. Please try again.\")\n",
    "\n",
    "if __name__ == \"__main__\":\n",
    "    main()\n"
   ]
  }
 ],
 "metadata": {
  "language_info": {
   "name": "python"
  }
 },
 "nbformat": 4,
 "nbformat_minor": 5
}
